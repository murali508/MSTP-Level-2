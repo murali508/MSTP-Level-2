{
 "cells": [
  {
   "cell_type": "code",
   "execution_count": 2,
   "metadata": {},
   "outputs": [
    {
     "name": "stdout",
     "output_type": "stream",
     "text": [
      "enter usernamemurali\n",
      "invalid username\n"
     ]
    }
   ],
   "source": [
    "u=\"abc\"\n",
    "p=\"1234\"\n",
    "username = input(\"enter username\")\n",
    "if username == u:\n",
    "    password = input(\"enter password\")\n",
    "    if password == p:\n",
    "        print(\"welcome\"+u)\n",
    "    else:\n",
    "        print(\"invalid password\")\n",
    "else:\n",
    "    print(\"invalid username\")\n",
    "        "
   ]
  },
  {
   "cell_type": "code",
   "execution_count": 10,
   "metadata": {},
   "outputs": [
    {
     "name": "stdout",
     "output_type": "stream",
     "text": [
      "enter value12\n",
      "enter value12\n",
      "enter value23\n",
      "23\n"
     ]
    }
   ],
   "source": [
    "a=int(input(\"enter value\"))\n",
    "b=int(input(\"enter value\"))\n",
    "c=int(input(\"enter value\"))\n",
    "if a == b == c:\n",
    "    print(\"0\")\n",
    "elif(a==b!=c):\n",
    "    print (c)\n",
    "elif(b==c!=a):\n",
    "    print (a)\n",
    "elif a!=b!=c: \n",
    "    print(a+b+c)"
   ]
  },
  {
   "cell_type": "code",
   "execution_count": 18,
   "metadata": {},
   "outputs": [
    {
     "name": "stdout",
     "output_type": "stream",
     "text": [
      "enter n value1234567890\n",
      "0\n",
      "valid ISBN\n"
     ]
    }
   ],
   "source": [
    "n=input(\"enter n value\")\n",
    "k=10\n",
    "s=0\n",
    "if len(n)<10 or len(n)>11:\n",
    "    print (\"illegal ISBN\")\n",
    "else:\n",
    "    n=int(n)\n",
    "    while n<=0:\n",
    "        r = n%10\n",
    "        s = s + r*k\n",
    "        k = k-1\n",
    "        n = floor(n/10)\n",
    "    print(s)    \n",
    "    if s%11 == 0:\n",
    "        print(\"valid ISBN\")\n",
    "    else:\n",
    "        print(\"invali ISBN\")\n"
   ]
  },
  {
   "cell_type": "code",
   "execution_count": 20,
   "metadata": {},
   "outputs": [
    {
     "name": "stdout",
     "output_type": "stream",
     "text": [
      "enter n value2\n",
      "2  * 1 = 2\n",
      "2  * 2 = 4\n",
      "2  * 3 = 6\n",
      "2  * 4 = 8\n",
      "2  * 5 = 10\n",
      "2  * 6 = 12\n",
      "2  * 7 = 14\n",
      "2  * 8 = 16\n",
      "2  * 9 = 18\n",
      "2  * 10 = 20\n"
     ]
    }
   ],
   "source": [
    "n=int(input(\"enter n value\"))\n",
    "for i in range(1,11):\n",
    "    print(n,\" *\",i,\"=\",n*i)"
   ]
  },
  {
   "cell_type": "code",
   "execution_count": 22,
   "metadata": {},
   "outputs": [
    {
     "name": "stdout",
     "output_type": "stream",
     "text": [
      "enter n value4\n",
      "4  * 1 = 4abc\t4  * 2 = 8abc\t4  * 3 = 12abc\t4  * 4 = 16abc\t4  * 5 = 20abc\t4  * 6 = 24abc\t4  * 7 = 28abc\t4  * 8 = 32abc\t4  * 9 = 36abc\t4  * 10 = 40abc\t"
     ]
    }
   ],
   "source": [
    "n=int(input(\"enter n value\"))\n",
    "for i in range(1,11):\n",
    "    print(n,\" *\",i,\"=\",n*i,end=\"abc\\t\")"
   ]
  },
  {
   "cell_type": "code",
   "execution_count": 23,
   "metadata": {},
   "outputs": [
    {
     "name": "stdout",
     "output_type": "stream",
     "text": [
      "enter start value1\n",
      "enter stop value10\n",
      "55\n"
     ]
    }
   ],
   "source": [
    "start=int(input(\"enter start value\"))\n",
    "stop=int(input(\"enter stop value\"))\n",
    "sum=0\n",
    "for i in range(start,stop+1):\n",
    "    s=s+i\n",
    "print(s)    \n",
    "    \n",
    "   "
   ]
  },
  {
   "cell_type": "code",
   "execution_count": 31,
   "metadata": {},
   "outputs": [
    {
     "name": "stdout",
     "output_type": "stream",
     "text": [
      "enter number of rows5\n",
      "* \n",
      "\n",
      "* * \n",
      "\n",
      "* * * \n",
      "\n",
      "* * * * \n",
      "\n",
      "* * * * * \n",
      "\n"
     ]
    }
   ],
   "source": [
    "n=int(input(\"enter number of rows\"))\n",
    "for i in range(1,n+1):\n",
    "    for j in range(1,i+1):\n",
    "        print(\"*\",end=\" \")\n",
    "    print(\"\\n\")\n",
    "    "
   ]
  },
  {
   "cell_type": "code",
   "execution_count": null,
   "metadata": {},
   "outputs": [],
   "source": []
  },
  {
   "cell_type": "code",
   "execution_count": 4,
   "metadata": {},
   "outputs": [
    {
     "name": "stdout",
     "output_type": "stream",
     "text": [
      "enter value3\n",
      "* \n",
      "\n",
      "\n",
      "\n",
      "\n",
      "\n"
     ]
    }
   ],
   "source": [
    "n=int(input(\"enter value\"))\n",
    "for i in range(1,n+1):\n",
    "    for i in range(i+1):\n",
    "        for j in range(j):\n",
    "            print(\"*\",end=\" \")\n",
    "    print(\"\\n\")\n",
    "    "
   ]
  },
  {
   "cell_type": "code",
   "execution_count": 11,
   "metadata": {
    "scrolled": false
   },
   "outputs": [
    {
     "name": "stdout",
     "output_type": "stream",
     "text": [
      "enter rows5\n",
      "\n",
      "* \n",
      "\n",
      "\n",
      "* \n",
      "* * \n",
      "\n",
      "\n",
      "* \n",
      "* * \n",
      "* * * \n",
      "\n",
      "\n",
      "* \n",
      "* * \n",
      "* * * \n",
      "* * * * \n",
      "\n",
      "\n",
      "* \n",
      "* * \n",
      "* * * \n",
      "* * * * \n",
      "* * * * * \n",
      "\n"
     ]
    }
   ],
   "source": [
    "rows=int(input(\"enter rows\"))\n",
    "for i in range(1,rows+1):\n",
    "    for j in range(i+1):\n",
    "        for k in range(j):\n",
    "          print(\"*\",end=\" \")\n",
    "        print()\n",
    "    print()    "
   ]
  },
  {
   "cell_type": "code",
   "execution_count": 14,
   "metadata": {},
   "outputs": [
    {
     "name": "stdout",
     "output_type": "stream",
     "text": [
      "enter value34\n",
      "enter value44\n",
      "enter value66\n",
      "enter valuestop\n",
      "66\n"
     ]
    }
   ],
   "source": [
    "m=0\n",
    "while True:\n",
    "    n = input(\"enter value\")\n",
    "    if n == \"stop\":\n",
    "        break\n",
    "    else:\n",
    "        k=int(n)\n",
    "        if m<k:\n",
    "            m=k\n",
    "print(m)            "
   ]
  },
  {
   "cell_type": "code",
   "execution_count": null,
   "metadata": {},
   "outputs": [],
   "source": [
    "### Strings\n",
    " -collection of characters\n",
    " -enclosed by '' or \"\"\n",
    "### String operations\n",
    "  -concatination\n",
    "  -replication\n",
    "  -membership test\n",
    "  -slicing \n",
    "### String methods"
   ]
  },
  {
   "cell_type": "code",
   "execution_count": 16,
   "metadata": {},
   "outputs": [
    {
     "name": "stdout",
     "output_type": "stream",
     "text": [
      "pythonprogramming\n",
      "pythonpythonpython\n",
      "234234234\n",
      "True\n"
     ]
    },
    {
     "data": {
      "text/plain": [
       "False"
      ]
     },
     "execution_count": 16,
     "metadata": {},
     "output_type": "execute_result"
    }
   ],
   "source": [
    "a = \"python\"\n",
    "b = 'programming'\n",
    "c = \"234\"\n",
    "print(a+b)\n",
    "print(a * 3)\n",
    "print(c * 3)\n",
    "print(\"g\" in b)\n",
    "\"g\" in a"
   ]
  },
  {
   "cell_type": "code",
   "execution_count": 26,
   "metadata": {},
   "outputs": [
    {
     "data": {
      "text/plain": [
       "'gimrop'"
      ]
     },
     "execution_count": 26,
     "metadata": {},
     "output_type": "execute_result"
    }
   ],
   "source": [
    "# slicing - dividing the string into substring by using :operator\n",
    "k=\"sai tirumala nvr engineering college \"\n",
    "b='programming'\n",
    "b[7:10]\n",
    "b[3:7]\n",
    "b[-1]\n",
    "b[-4:-2]\n",
    "b[7:10:2]\n",
    "b[::3]\n",
    "b[::5]\n",
    "b[::-2]"
   ]
  },
  {
   "cell_type": "code",
   "execution_count": 28,
   "metadata": {},
   "outputs": [
    {
     "name": "stdout",
     "output_type": "stream",
     "text": [
      "python in sai tirumala college\n"
     ]
    }
   ],
   "source": [
    "a = \"python\"\n",
    "k = \"sai tirumala nvr engineering college\"\n",
    "print(a+\" in \"+k[:12]+\" \"+k[29:])\n"
   ]
  },
  {
   "cell_type": "code",
   "execution_count": 1,
   "metadata": {},
   "outputs": [
    {
     "data": {
      "text/plain": [
       "['__add__',\n",
       " '__class__',\n",
       " '__contains__',\n",
       " '__delattr__',\n",
       " '__dir__',\n",
       " '__doc__',\n",
       " '__eq__',\n",
       " '__format__',\n",
       " '__ge__',\n",
       " '__getattribute__',\n",
       " '__getitem__',\n",
       " '__getnewargs__',\n",
       " '__gt__',\n",
       " '__hash__',\n",
       " '__init__',\n",
       " '__init_subclass__',\n",
       " '__iter__',\n",
       " '__le__',\n",
       " '__len__',\n",
       " '__lt__',\n",
       " '__mod__',\n",
       " '__mul__',\n",
       " '__ne__',\n",
       " '__new__',\n",
       " '__reduce__',\n",
       " '__reduce_ex__',\n",
       " '__repr__',\n",
       " '__rmod__',\n",
       " '__rmul__',\n",
       " '__setattr__',\n",
       " '__sizeof__',\n",
       " '__str__',\n",
       " '__subclasshook__',\n",
       " 'capitalize',\n",
       " 'casefold',\n",
       " 'center',\n",
       " 'count',\n",
       " 'encode',\n",
       " 'endswith',\n",
       " 'expandtabs',\n",
       " 'find',\n",
       " 'format',\n",
       " 'format_map',\n",
       " 'index',\n",
       " 'isalnum',\n",
       " 'isalpha',\n",
       " 'isascii',\n",
       " 'isdecimal',\n",
       " 'isdigit',\n",
       " 'isidentifier',\n",
       " 'islower',\n",
       " 'isnumeric',\n",
       " 'isprintable',\n",
       " 'isspace',\n",
       " 'istitle',\n",
       " 'isupper',\n",
       " 'join',\n",
       " 'ljust',\n",
       " 'lower',\n",
       " 'lstrip',\n",
       " 'maketrans',\n",
       " 'partition',\n",
       " 'replace',\n",
       " 'rfind',\n",
       " 'rindex',\n",
       " 'rjust',\n",
       " 'rpartition',\n",
       " 'rsplit',\n",
       " 'rstrip',\n",
       " 'split',\n",
       " 'splitlines',\n",
       " 'startswith',\n",
       " 'strip',\n",
       " 'swapcase',\n",
       " 'title',\n",
       " 'translate',\n",
       " 'upper',\n",
       " 'zfill']"
      ]
     },
     "execution_count": 1,
     "metadata": {},
     "output_type": "execute_result"
    }
   ],
   "source": [
    "# STRING METHODS\n",
    "dir(str)"
   ]
  },
  {
   "cell_type": "code",
   "execution_count": 3,
   "metadata": {},
   "outputs": [
    {
     "data": {
      "text/plain": [
       "'Sai tirumala nvr engineering college'"
      ]
     },
     "execution_count": 3,
     "metadata": {},
     "output_type": "execute_result"
    }
   ],
   "source": [
    "b=\"sai tirumala nvr engineering college\"\n",
    "b.capitalize()"
   ]
  },
  {
   "cell_type": "code",
   "execution_count": 4,
   "metadata": {},
   "outputs": [
    {
     "data": {
      "text/plain": [
       "'Sai Tirumala Nvr Engineering College'"
      ]
     },
     "execution_count": 4,
     "metadata": {},
     "output_type": "execute_result"
    }
   ],
   "source": [
    "b.title()"
   ]
  },
  {
   "cell_type": "code",
   "execution_count": 5,
   "metadata": {},
   "outputs": [
    {
     "name": "stdout",
     "output_type": "stream",
     "text": [
      "methods in strings \n",
      "sten\n",
      "mETHods iN strINGs \n"
     ]
    }
   ],
   "source": [
    "a = \"STEN\"\n",
    "c = \"MethODS In STRingS \"\n",
    "print(c.casefold())\n",
    "print(a.casefold())\n",
    "print(c.swapcase())"
   ]
  },
  {
   "cell_type": "code",
   "execution_count": 6,
   "metadata": {},
   "outputs": [
    {
     "data": {
      "text/plain": [
       "'        STEN        '"
      ]
     },
     "execution_count": 6,
     "metadata": {},
     "output_type": "execute_result"
    }
   ],
   "source": [
    "a.center(20)"
   ]
  },
  {
   "cell_type": "code",
   "execution_count": 7,
   "metadata": {},
   "outputs": [
    {
     "data": {
      "text/plain": [
       "'********STEN********'"
      ]
     },
     "execution_count": 7,
     "metadata": {},
     "output_type": "execute_result"
    }
   ],
   "source": [
    "a.center(20,\"*\")"
   ]
  },
  {
   "cell_type": "code",
   "execution_count": 8,
   "metadata": {},
   "outputs": [
    {
     "data": {
      "text/plain": [
       "['sai', 'tirumala', 'nvr', 'engineering', 'college']"
      ]
     },
     "execution_count": 8,
     "metadata": {},
     "output_type": "execute_result"
    }
   ],
   "source": [
    "b=\"sai tirumala nvr engineering college\"\n",
    "b.split()"
   ]
  },
  {
   "cell_type": "code",
   "execution_count": 10,
   "metadata": {},
   "outputs": [
    {
     "data": {
      "text/plain": [
       "['sa', ' t', 'rumala nvr eng', 'neer', 'ng college']"
      ]
     },
     "execution_count": 10,
     "metadata": {},
     "output_type": "execute_result"
    }
   ],
   "source": [
    "b.split('i')"
   ]
  },
  {
   "cell_type": "code",
   "execution_count": null,
   "metadata": {},
   "outputs": [],
   "source": []
  },
  {
   "cell_type": "code",
   "execution_count": null,
   "metadata": {},
   "outputs": [],
   "source": []
  }
 ],
 "metadata": {
  "kernelspec": {
   "display_name": "Python 3",
   "language": "python",
   "name": "python3"
  },
  "language_info": {
   "codemirror_mode": {
    "name": "ipython",
    "version": 3
   },
   "file_extension": ".py",
   "mimetype": "text/x-python",
   "name": "python",
   "nbconvert_exporter": "python",
   "pygments_lexer": "ipython3",
   "version": "3.7.1"
  }
 },
 "nbformat": 4,
 "nbformat_minor": 2
}
